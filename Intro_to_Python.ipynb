{
  "cells": [
    {
      "attachments": {},
      "cell_type": "markdown",
      "metadata": {
        "colab_type": "text",
        "id": "view-in-github"
      },
      "source": [
        "<a href=\"https://colab.research.google.com/github/yeauh/TTP_summer2023/blob/day1/Intro_to_Python.ipynb\" target=\"_parent\"><img src=\"https://colab.research.google.com/assets/colab-badge.svg\" alt=\"Open In Colab\"/></a>"
      ]
    },
    {
      "attachments": {},
      "cell_type": "markdown",
      "metadata": {
        "id": "p0g83LldHbOn"
      },
      "source": [
        "# Python Basics"
      ]
    },
    {
      "attachments": {},
      "cell_type": "markdown",
      "metadata": {
        "id": "YnUVO8NfIjSA"
      },
      "source": [
        "## Strings & the `print()` function"
      ]
    },
    {
      "cell_type": "code",
      "execution_count": 69,
      "metadata": {
        "colab": {
          "base_uri": "https://localhost:8080/"
        },
        "id": "0zDjBq6eIjOd",
        "outputId": "95411d84-ef39-42e2-bfc8-bd89f6c0f7e3"
      },
      "outputs": [
        {
          "name": "stdout",
          "output_type": "stream",
          "text": [
            "Hi there\n"
          ]
        }
      ],
      "source": [
        "print('Hi there')\n",
        "# In this line I am using the print() method to print \"hi there\" to the user!"
      ]
    },
    {
      "cell_type": "code",
      "execution_count": 70,
      "metadata": {
        "colab": {
          "base_uri": "https://localhost:8080/"
        },
        "id": "skp-uC_QIjIg",
        "outputId": "b9d8599a-a8fc-44f7-d6d5-480032f3f2eb"
      },
      "outputs": [
        {
          "name": "stdout",
          "output_type": "stream",
          "text": [
            "There are two types of slashes: \\ and /\n"
          ]
        }
      ],
      "source": [
        "print(\"There are two types of slashes: \\\\ and /\") # This line only prints \"There are two types of slashes: \\ and /\" because the first black slash indicates that the following\n",
        "# character immediately following it should be treated differently, such as interpreting special characters or forming escape sequences."
      ]
    },
    {
      "cell_type": "code",
      "execution_count": 71,
      "metadata": {
        "colab": {
          "base_uri": "https://localhost:8080/"
        },
        "id": "7kIjM9HuIjFW",
        "outputId": "8d189c03-5939-47e3-eb40-26f9e20c8847"
      },
      "outputs": [
        {
          "name": "stdout",
          "output_type": "stream",
          "text": [
            "\n",
            "    This is a tabbed line\n",
            "This is a regular line\n",
            "\n"
          ]
        }
      ],
      "source": [
        "print(\"\"\"\n",
        "    This is a tabbed line\n",
        "This is a regular line\n",
        "\"\"\")\n",
        "# Here, we see the use of three quotation marks at the beginning and end of the argument to the print method, which indicates that the contents should be printed exactly\n",
        "# as they are."
      ]
    },
    {
      "cell_type": "code",
      "execution_count": 72,
      "metadata": {
        "colab": {
          "base_uri": "https://localhost:8080/"
        },
        "id": "J9Lb2gcmIjB_",
        "outputId": "c8d557f1-051a-4162-f012-51582bcf5280"
      },
      "outputs": [
        {
          "name": "stdout",
          "output_type": "stream",
          "text": [
            "\n",
            "\tThis is a tabbed line\n",
            "This is a regular line\n"
          ]
        }
      ],
      "source": [
        "print(\"\\n\\tThis is a tabbed line\\nThis is a regular line\")\n",
        "# This line uses the black slash, which as stated above, indicates that the character immediately following"
      ]
    },
    {
      "cell_type": "code",
      "execution_count": 73,
      "metadata": {
        "colab": {
          "base_uri": "https://localhost:8080/"
        },
        "id": "vJUtwL0pIi-r",
        "outputId": "cfb8cc0b-8356-4edc-bf0c-bc0168dcef10"
      },
      "outputs": [
        {
          "name": "stdout",
          "output_type": "stream",
          "text": [
            "first name last name\n"
          ]
        }
      ],
      "source": [
        "print(\"first name\" + ' last name')\n",
        "# \"first name\" and 'last name'"
      ]
    },
    {
      "attachments": {},
      "cell_type": "markdown",
      "metadata": {
        "id": "1pf_VltTIi7e"
      },
      "source": [
        "## Variables"
      ]
    },
    {
      "cell_type": "code",
      "execution_count": 74,
      "metadata": {
        "id": "qt8LteahIi4A"
      },
      "outputs": [],
      "source": [
        "dogs = 3\n",
        "cats = \"Many fluffy cats\"\n",
        "# dog equals the integer value of 3 and \"Many fluffy cats\" is assigned to the variable cats"
      ]
    },
    {
      "cell_type": "code",
      "execution_count": 75,
      "metadata": {
        "colab": {
          "base_uri": "https://localhost:8080/"
        },
        "id": "NwqxqEpWIi0h",
        "outputId": "a84debcd-8b0f-49ad-d891-064346b95bea"
      },
      "outputs": [
        {
          "data": {
            "text/plain": [
              "3"
            ]
          },
          "execution_count": 75,
          "metadata": {},
          "output_type": "execute_result"
        }
      ],
      "source": [
        "dogs # Prints dog"
      ]
    },
    {
      "cell_type": "code",
      "execution_count": 76,
      "metadata": {
        "colab": {
          "base_uri": "https://localhost:8080/"
        },
        "id": "G_oMOB1NIiw9",
        "outputId": "29e492c8-5b2a-412a-96c7-277b0708094d"
      },
      "outputs": [
        {
          "data": {
            "text/plain": [
              "'Many fluffy cats'"
            ]
          },
          "execution_count": 76,
          "metadata": {},
          "output_type": "execute_result"
        }
      ],
      "source": [
        "cats"
      ]
    },
    {
      "cell_type": "code",
      "execution_count": 77,
      "metadata": {
        "colab": {
          "base_uri": "https://localhost:8080/"
        },
        "id": "dcqw5F7JIitU",
        "outputId": "926b1c2a-59ee-4fbd-c49d-1bf23709f1d1"
      },
      "outputs": [
        {
          "data": {
            "text/plain": [
              "int"
            ]
          },
          "execution_count": 77,
          "metadata": {},
          "output_type": "execute_result"
        }
      ],
      "source": [
        "type(dogs)\n",
        "# Prints dogs' data type"
      ]
    },
    {
      "cell_type": "code",
      "execution_count": 78,
      "metadata": {
        "colab": {
          "base_uri": "https://localhost:8080/"
        },
        "id": "FMwmo-zPIip6",
        "outputId": "981414e6-12df-4250-f0c2-edc248da06ee"
      },
      "outputs": [
        {
          "data": {
            "text/plain": [
              "str"
            ]
          },
          "execution_count": 78,
          "metadata": {},
          "output_type": "execute_result"
        }
      ],
      "source": [
        "type(cats)\n",
        "# Print cats' data type"
      ]
    },
    {
      "cell_type": "code",
      "execution_count": 79,
      "metadata": {
        "colab": {
          "base_uri": "https://localhost:8080/"
        },
        "id": "cWmfhddOIimL",
        "outputId": "d8756bd7-c159-4d77-9551-58b15ca84d19"
      },
      "outputs": [
        {
          "name": "stdout",
          "output_type": "stream",
          "text": [
            "3\n"
          ]
        }
      ],
      "source": [
        "print(dogs)"
      ]
    },
    {
      "cell_type": "code",
      "execution_count": 80,
      "metadata": {
        "colab": {
          "base_uri": "https://localhost:8080/"
        },
        "id": "oArnL960Iiip",
        "outputId": "f35f1ae0-7cc3-4c94-f6e9-670ca0b46bc0"
      },
      "outputs": [
        {
          "name": "stdout",
          "output_type": "stream",
          "text": [
            "Hello John\n"
          ]
        }
      ],
      "source": [
        "hi = \"Hello \"\n",
        "name = \"John\"\n",
        "print(hi + name)\n",
        "# Concatenation"
      ]
    },
    {
      "cell_type": "code",
      "execution_count": 81,
      "metadata": {
        "colab": {
          "base_uri": "https://localhost:8080/"
        },
        "id": "JnqapVGuIifP",
        "outputId": "52baf25f-6e24-4478-b417-f45994e88205"
      },
      "outputs": [
        {
          "name": "stdout",
          "output_type": "stream",
          "text": [
            "8\n"
          ]
        }
      ],
      "source": [
        "more_dogs = 5\n",
        "\n",
        "print(dogs + more_dogs)\n",
        "# Prints the result of more_dogs, 5, plus dogs, 3, which is 8"
      ]
    },
    {
      "cell_type": "code",
      "execution_count": 82,
      "metadata": {
        "id": "AvIcbhJvIibh"
      },
      "outputs": [],
      "source": [
        "price = 19.99\n",
        "amount = 3"
      ]
    },
    {
      "cell_type": "code",
      "execution_count": 83,
      "metadata": {
        "colab": {
          "base_uri": "https://localhost:8080/"
        },
        "id": "69zRuEn2IiXx",
        "outputId": "dfa4f1e8-75b6-4e9e-e6ed-b7ec90f435cf"
      },
      "outputs": [
        {
          "name": "stdout",
          "output_type": "stream",
          "text": [
            "59.97\n"
          ]
        }
      ],
      "source": [
        "print(price * amount)"
      ]
    },
    {
      "cell_type": "code",
      "execution_count": 84,
      "metadata": {
        "colab": {
          "base_uri": "https://localhost:8080/"
        },
        "id": "0BsXrUwdIiUd",
        "outputId": "7456af6b-5477-4dd2-a59e-9970c32f255f"
      },
      "outputs": [
        {
          "name": "stdout",
          "output_type": "stream",
          "text": [
            "New value\n"
          ]
        }
      ],
      "source": [
        "# Variable re-assignment, from 3 to \"New value\"\n",
        "dogs = \"New value\"\n",
        "\n",
        "print(dogs)\n",
        "# Prints \"New Value\" from the variable reassignment"
      ]
    },
    {
      "cell_type": "code",
      "execution_count": 85,
      "metadata": {
        "colab": {
          "base_uri": "https://localhost:8080/"
        },
        "id": "U4MXyqq3IiRC",
        "outputId": "53e193e9-1948-4077-934d-5a5dacbf4a7f"
      },
      "outputs": [
        {
          "name": "stdout",
          "output_type": "stream",
          "text": [
            "5\n"
          ]
        }
      ],
      "source": [
        "cats, dogs, rabbits = 2, 5, \"cute\"\n",
        "# cats = 2\n",
        "# dogs = 5\n",
        "# rabbits = \"cute\" \n",
        "\n",
        "print(dogs)\n",
        "# prints 5"
      ]
    },
    {
      "attachments": {},
      "cell_type": "markdown",
      "metadata": {
        "id": "cmrZmnEsNTZP"
      },
      "source": [
        "## More Strings"
      ]
    },
    {
      "attachments": {},
      "cell_type": "markdown",
      "metadata": {
        "id": "Nyh6BHo2Nkjv"
      },
      "source": [
        "### Indexing"
      ]
    },
    {
      "cell_type": "code",
      "execution_count": 144,
      "metadata": {
        "id": "q27SmbKRNkgd"
      },
      "outputs": [],
      "source": [
        "greeting = 'Hello world!'"
      ]
    },
    {
      "cell_type": "code",
      "execution_count": 145,
      "metadata": {
        "colab": {
          "base_uri": "https://localhost:8080/"
        },
        "id": "gA3xf5ikNkc8",
        "outputId": "cc2afcfb-9ec8-48a1-a153-620f4cebae5a"
      },
      "outputs": [
        {
          "data": {
            "text/plain": [
              "'Hello world!'"
            ]
          },
          "execution_count": 145,
          "metadata": {},
          "output_type": "execute_result"
        }
      ],
      "source": [
        "greeting # Prints contents of greeting"
      ]
    },
    {
      "cell_type": "code",
      "execution_count": 146,
      "metadata": {
        "colab": {
          "base_uri": "https://localhost:8080/"
        },
        "id": "ORJVSQScNkZz",
        "outputId": "0176fd39-ac6e-430b-9dc6-37461457fd55"
      },
      "outputs": [
        {
          "name": "stdout",
          "output_type": "stream",
          "text": [
            "o\n"
          ]
        }
      ],
      "source": [
        "print(greeting[4])\n",
        "# Prints the 5th element of 'Hello World', which is assigned to greeting"
      ]
    },
    {
      "cell_type": "code",
      "execution_count": 147,
      "metadata": {
        "colab": {
          "base_uri": "https://localhost:8080/"
        },
        "id": "ozSZXmCENkWx",
        "outputId": "71ec55ed-976f-491f-efa1-102a9e424f64"
      },
      "outputs": [
        {
          "data": {
            "text/plain": [
              "12"
            ]
          },
          "execution_count": 147,
          "metadata": {},
          "output_type": "execute_result"
        }
      ],
      "source": [
        "len(greeting)\n",
        "# Prints the length of greeting, starting from 1"
      ]
    },
    {
      "cell_type": "code",
      "execution_count": 148,
      "metadata": {
        "colab": {
          "base_uri": "https://localhost:8080/"
        },
        "id": "IKaDfoxqNkTf",
        "outputId": "9ba46556-952e-4238-bb94-95eba325fd38"
      },
      "outputs": [
        {
          "data": {
            "text/plain": [
              "'!'"
            ]
          },
          "execution_count": 148,
          "metadata": {},
          "output_type": "execute_result"
        }
      ],
      "source": [
        "greeting[11]\n",
        "# Prints the 12th element of 'Hello World', which is assigned to greeting"
      ]
    },
    {
      "cell_type": "code",
      "execution_count": 149,
      "metadata": {
        "colab": {
          "base_uri": "https://localhost:8080/"
        },
        "id": "eOvRggRBNkQX",
        "outputId": "a19da85f-dcc1-4a26-e338-38e274b7a2bb"
      },
      "outputs": [
        {
          "data": {
            "text/plain": [
              "'!'"
            ]
          },
          "execution_count": 149,
          "metadata": {},
          "output_type": "execute_result"
        }
      ],
      "source": [
        "greeting[-1]\n",
        "# Prints the 1st to last element of 'Hello World', which is assigned to greeting"
      ]
    },
    {
      "attachments": {},
      "cell_type": "markdown",
      "metadata": {
        "id": "0f7eVEDcNkNc"
      },
      "source": [
        "### String Formatting"
      ]
    },
    {
      "cell_type": "code",
      "execution_count": 150,
      "metadata": {
        "id": "JRqyjGiQNkJ7"
      },
      "outputs": [],
      "source": [
        "price = 59.99"
      ]
    },
    {
      "cell_type": "code",
      "execution_count": 202,
      "metadata": {
        "id": "r2cV-Z-9NkGR"
      },
      "outputs": [],
      "source": [
        "message = \"The product costs \" + str(price) + \" dollars\"\n",
        "# \"The product costs 59.99 dollars\" is assigned to the string \"message\"."
      ]
    },
    {
      "cell_type": "code",
      "execution_count": 203,
      "metadata": {
        "colab": {
          "base_uri": "https://localhost:8080/",
          "height": 35
        },
        "id": "F_sciPUwNkDE",
        "outputId": "bfc82e5d-42e2-4742-d87a-7ddf5f8155a4"
      },
      "outputs": [
        {
          "data": {
            "text/plain": [
              "'The product costs 19.99 dollars'"
            ]
          },
          "execution_count": 203,
          "metadata": {},
          "output_type": "execute_result"
        }
      ],
      "source": [
        "message\n",
        "# print message"
      ]
    },
    {
      "attachments": {},
      "cell_type": "markdown",
      "metadata": {
        "id": "5qbEWpmmRDIM"
      },
      "source": [
        "#### The `.format()` method!"
      ]
    },
    {
      "cell_type": "code",
      "execution_count": 204,
      "metadata": {
        "id": "lwA6UyZhNj_x"
      },
      "outputs": [],
      "source": [
        "msg = \"The product cost {} dollars\".format(price)"
      ]
    },
    {
      "cell_type": "code",
      "execution_count": 205,
      "metadata": {
        "colab": {
          "base_uri": "https://localhost:8080/",
          "height": 35
        },
        "id": "cjfb_GhuNj8V",
        "outputId": "969c0d7b-7fad-4401-d2d7-e54e2a19e08b"
      },
      "outputs": [
        {
          "data": {
            "text/plain": [
              "'The product cost 19.99 dollars'"
            ]
          },
          "execution_count": 205,
          "metadata": {},
          "output_type": "execute_result"
        }
      ],
      "source": [
        "msg"
      ]
    },
    {
      "cell_type": "code",
      "execution_count": 206,
      "metadata": {
        "id": "SASm8GQxNj5L"
      },
      "outputs": [],
      "source": [
        "amount = 3\n",
        "total = amount * price"
      ]
    },
    {
      "cell_type": "code",
      "execution_count": 207,
      "metadata": {
        "id": "FzHMW1ScNj2E"
      },
      "outputs": [],
      "source": [
        "msg2 = 'For {} products at the price of {}, the total will be: {}'"
      ]
    },
    {
      "cell_type": "code",
      "execution_count": 208,
      "metadata": {
        "colab": {
          "base_uri": "https://localhost:8080/"
        },
        "id": "JE5lG8niRb0C",
        "outputId": "6eef5d0c-f67a-44e6-a55b-160564829f00"
      },
      "outputs": [
        {
          "name": "stdout",
          "output_type": "stream",
          "text": [
            "For 3 products at the price of 19.99, the total will be: 59.97\n"
          ]
        }
      ],
      "source": [
        "print(msg2.format(amount, price, total))"
      ]
    },
    {
      "cell_type": "code",
      "execution_count": 209,
      "metadata": {
        "id": "Qf0bYykFRse5"
      },
      "outputs": [],
      "source": [
        "msg3 = \"For {2} products at a price of {0}, the total is {1}\""
      ]
    },
    {
      "cell_type": "code",
      "execution_count": 210,
      "metadata": {
        "colab": {
          "base_uri": "https://localhost:8080/"
        },
        "id": "TEx7g8zjSZvH",
        "outputId": "ae6803f8-a07b-4e48-d1b7-ba718ae72d0c"
      },
      "outputs": [
        {
          "name": "stdout",
          "output_type": "stream",
          "text": [
            "For 3 products at a price of 19.99, the total is 59.97\n"
          ]
        }
      ],
      "source": [
        "print(msg3.format(price, total, amount))"
      ]
    },
    {
      "attachments": {},
      "cell_type": "markdown",
      "metadata": {
        "id": "9oPYuCGrSgIK"
      },
      "source": [
        "#### The `f-String` Method!"
      ]
    },
    {
      "cell_type": "code",
      "execution_count": 211,
      "metadata": {
        "id": "309Rwtm9Swck"
      },
      "outputs": [],
      "source": [
        "price = 19.99\n",
        "items = 3"
      ]
    },
    {
      "cell_type": "code",
      "execution_count": 212,
      "metadata": {
        "id": "2rR8Hw3uSwZi"
      },
      "outputs": [],
      "source": [
        "msg = f'This individual produc is {price}'"
      ]
    },
    {
      "cell_type": "code",
      "execution_count": 213,
      "metadata": {
        "colab": {
          "base_uri": "https://localhost:8080/",
          "height": 35
        },
        "id": "FyzIaZ5pSwWq",
        "outputId": "7f35b108-679c-478e-fe09-1269e5bf456f"
      },
      "outputs": [
        {
          "data": {
            "text/plain": [
              "'This individual produc is 19.99'"
            ]
          },
          "execution_count": 213,
          "metadata": {},
          "output_type": "execute_result"
        }
      ],
      "source": [
        "msg"
      ]
    },
    {
      "cell_type": "code",
      "execution_count": 214,
      "metadata": {
        "id": "A4fLPvl7SwT2"
      },
      "outputs": [],
      "source": [
        "msg2 = f'The total for your purchase is {price * items}'"
      ]
    },
    {
      "cell_type": "code",
      "execution_count": 215,
      "metadata": {
        "colab": {
          "base_uri": "https://localhost:8080/",
          "height": 35
        },
        "id": "euHXRCA3Tgwp",
        "outputId": "4241e711-b384-434e-ea6f-024442df998d"
      },
      "outputs": [
        {
          "data": {
            "text/plain": [
              "'The total for your purchase is 59.97'"
            ]
          },
          "execution_count": 215,
          "metadata": {},
          "output_type": "execute_result"
        }
      ],
      "source": [
        "msg2"
      ]
    },
    {
      "attachments": {},
      "cell_type": "markdown",
      "metadata": {
        "id": "-vvOEZ2IThdJ"
      },
      "source": [
        "#### String Functions"
      ]
    },
    {
      "cell_type": "code",
      "execution_count": 216,
      "metadata": {
        "colab": {
          "base_uri": "https://localhost:8080/"
        },
        "id": "6rLE_cKRI82U",
        "outputId": "50226fab-f818-460e-dfee-31c51cf02384"
      },
      "outputs": [
        {
          "data": {
            "text/plain": [
              "['__add__',\n",
              " '__class__',\n",
              " '__contains__',\n",
              " '__delattr__',\n",
              " '__dir__',\n",
              " '__doc__',\n",
              " '__eq__',\n",
              " '__format__',\n",
              " '__ge__',\n",
              " '__getattribute__',\n",
              " '__getitem__',\n",
              " '__getnewargs__',\n",
              " '__getstate__',\n",
              " '__gt__',\n",
              " '__hash__',\n",
              " '__init__',\n",
              " '__init_subclass__',\n",
              " '__iter__',\n",
              " '__le__',\n",
              " '__len__',\n",
              " '__lt__',\n",
              " '__mod__',\n",
              " '__mul__',\n",
              " '__ne__',\n",
              " '__new__',\n",
              " '__reduce__',\n",
              " '__reduce_ex__',\n",
              " '__repr__',\n",
              " '__rmod__',\n",
              " '__rmul__',\n",
              " '__setattr__',\n",
              " '__sizeof__',\n",
              " '__str__',\n",
              " '__subclasshook__',\n",
              " 'capitalize',\n",
              " 'casefold',\n",
              " 'center',\n",
              " 'count',\n",
              " 'encode',\n",
              " 'endswith',\n",
              " 'expandtabs',\n",
              " 'find',\n",
              " 'format',\n",
              " 'format_map',\n",
              " 'index',\n",
              " 'isalnum',\n",
              " 'isalpha',\n",
              " 'isascii',\n",
              " 'isdecimal',\n",
              " 'isdigit',\n",
              " 'isidentifier',\n",
              " 'islower',\n",
              " 'isnumeric',\n",
              " 'isprintable',\n",
              " 'isspace',\n",
              " 'istitle',\n",
              " 'isupper',\n",
              " 'join',\n",
              " 'ljust',\n",
              " 'lower',\n",
              " 'lstrip',\n",
              " 'maketrans',\n",
              " 'partition',\n",
              " 'removeprefix',\n",
              " 'removesuffix',\n",
              " 'replace',\n",
              " 'rfind',\n",
              " 'rindex',\n",
              " 'rjust',\n",
              " 'rpartition',\n",
              " 'rsplit',\n",
              " 'rstrip',\n",
              " 'split',\n",
              " 'splitlines',\n",
              " 'startswith',\n",
              " 'strip',\n",
              " 'swapcase',\n",
              " 'title',\n",
              " 'translate',\n",
              " 'upper',\n",
              " 'zfill']"
            ]
          },
          "execution_count": 216,
          "metadata": {},
          "output_type": "execute_result"
        }
      ],
      "source": [
        "dir(msg) # Prints out all useable functions for the msg variable"
      ]
    },
    {
      "cell_type": "code",
      "execution_count": 217,
      "metadata": {
        "colab": {
          "base_uri": "https://localhost:8080/",
          "height": 35
        },
        "id": "bd23_rFzI8zp",
        "outputId": "cc916718-c413-42ed-b28b-86f2abc8f42c"
      },
      "outputs": [
        {
          "data": {
            "text/plain": [
              "'This individual produc is 19.99'"
            ]
          },
          "execution_count": 217,
          "metadata": {},
          "output_type": "execute_result"
        }
      ],
      "source": [
        "msg"
      ]
    },
    {
      "cell_type": "code",
      "execution_count": 218,
      "metadata": {
        "id": "l7Mzr5yaI8w4"
      },
      "outputs": [],
      "source": [
        "msg = 'Hello my name is Bob'"
      ]
    },
    {
      "cell_type": "code",
      "execution_count": 219,
      "metadata": {
        "id": "sOV1Tu_tI8t_"
      },
      "outputs": [],
      "source": [
        "words = msg.split(' ')\n",
        "\n",
        "# "
      ]
    },
    {
      "cell_type": "code",
      "execution_count": 220,
      "metadata": {
        "colab": {
          "base_uri": "https://localhost:8080/"
        },
        "id": "1wcFgHbgI8q7",
        "outputId": "1c89e803-13e6-413f-cc6e-ff04cc7f21e5"
      },
      "outputs": [
        {
          "name": "stdout",
          "output_type": "stream",
          "text": [
            "['Hello', 'my', 'name', 'is', 'Bob']\n"
          ]
        }
      ],
      "source": [
        "print(words)"
      ]
    },
    {
      "cell_type": "code",
      "execution_count": 221,
      "metadata": {
        "id": "xblxgZPTI8nb"
      },
      "outputs": [],
      "source": [
        "elements = msg.split('e')"
      ]
    },
    {
      "cell_type": "code",
      "execution_count": 222,
      "metadata": {
        "colab": {
          "base_uri": "https://localhost:8080/"
        },
        "id": "KIOTF0iRI8kY",
        "outputId": "718ea4f6-30e8-4772-aadf-5103cfcfc95f"
      },
      "outputs": [
        {
          "name": "stdout",
          "output_type": "stream",
          "text": [
            "['H', 'llo my nam', ' is Bob']\n"
          ]
        }
      ],
      "source": [
        "print(elements)"
      ]
    },
    {
      "cell_type": "code",
      "execution_count": 223,
      "metadata": {
        "colab": {
          "base_uri": "https://localhost:8080/"
        },
        "id": "H4tA0h_FI8gk",
        "outputId": "2b430e08-5fcd-4c46-d6e3-a097b58edd6f"
      },
      "outputs": [
        {
          "name": "stdout",
          "output_type": "stream",
          "text": [
            "HELLO MY NAME IS BOB\n"
          ]
        }
      ],
      "source": [
        "print(msg.upper())"
      ]
    },
    {
      "cell_type": "code",
      "execution_count": 224,
      "metadata": {
        "colab": {
          "base_uri": "https://localhost:8080/"
        },
        "id": "1iJg7xCcI8dV",
        "outputId": "c5e5dc23-5073-472c-f92f-cc34d12b5b2a"
      },
      "outputs": [
        {
          "name": "stdout",
          "output_type": "stream",
          "text": [
            "hello my name is bob\n"
          ]
        }
      ],
      "source": [
        "print(msg.lower())"
      ]
    },
    {
      "attachments": {},
      "cell_type": "markdown",
      "metadata": {
        "id": "jYq5B0CrI8Z_"
      },
      "source": [
        "## The `input()` Method"
      ]
    },
    {
      "cell_type": "code",
      "execution_count": 225,
      "metadata": {
        "colab": {
          "base_uri": "https://localhost:8080/"
        },
        "id": "nxgdEiypMnwt",
        "outputId": "8898379c-0167-4e20-81f4-c391d0b98c87"
      },
      "outputs": [
        {
          "name": "stdout",
          "output_type": "stream",
          "text": [
            "Hello hi, hope your day is great!\n"
          ]
        }
      ],
      "source": [
        "data = input('What is your name: ')\n",
        "print(f'Hello {data}, hope your day is great!')\n",
        "\n",
        "# The program gets an input for a name then prints \"Hello \" + input + \", hope your day is great!\"."
      ]
    },
    {
      "cell_type": "code",
      "execution_count": 226,
      "metadata": {
        "colab": {
          "base_uri": "https://localhost:8080/"
        },
        "id": "yUu-mUc-Mnt8",
        "outputId": "05e953cc-cfd2-44c0-f739-b77c9408d9ef"
      },
      "outputs": [
        {
          "name": "stdout",
          "output_type": "stream",
          "text": [
            "9\n"
          ]
        }
      ],
      "source": [
        "num = int(input('enter a number: '))\n",
        "print(num)\n",
        "# Prints the inputted value"
      ]
    },
    {
      "cell_type": "code",
      "execution_count": 227,
      "metadata": {
        "colab": {
          "base_uri": "https://localhost:8080/"
        },
        "id": "9zzCts-PMnqR",
        "outputId": "47ebfaca-cf0e-4bb0-ff1a-d6e067ea3cab"
      },
      "outputs": [
        {
          "data": {
            "text/plain": [
              "int"
            ]
          },
          "execution_count": 227,
          "metadata": {},
          "output_type": "execute_result"
        }
      ],
      "source": [
        "type(num)"
      ]
    },
    {
      "attachments": {},
      "cell_type": "markdown",
      "metadata": {
        "id": "S1SOa1JQMnnJ"
      },
      "source": [
        "## Numbers"
      ]
    },
    {
      "cell_type": "code",
      "execution_count": 228,
      "metadata": {
        "id": "Pf5cHgR1Mnk6"
      },
      "outputs": [],
      "source": [
        "cats = 7\n",
        "money = -35.5\n",
        "x = 2+5j\n",
        "message = \"Hello Alice!\""
      ]
    },
    {
      "cell_type": "code",
      "execution_count": 229,
      "metadata": {
        "colab": {
          "base_uri": "https://localhost:8080/"
        },
        "id": "bV7-XO08MnhN",
        "outputId": "c38d0029-0355-4dc9-a312-f5455a39d526"
      },
      "outputs": [
        {
          "name": "stdout",
          "output_type": "stream",
          "text": [
            "<class 'int'>\n",
            "<class 'float'>\n",
            "<class 'complex'>\n",
            "<class 'str'>\n"
          ]
        }
      ],
      "source": [
        "print(type(cats))\n",
        "print(type(money))\n",
        "print(type(x))\n",
        "print(type(message))"
      ]
    },
    {
      "cell_type": "code",
      "execution_count": 230,
      "metadata": {
        "colab": {
          "base_uri": "https://localhost:8080/"
        },
        "id": "_q4HfxMnMneF",
        "outputId": "ab73ebbf-6a24-4eee-dab8-a189dc44ae45"
      },
      "outputs": [
        {
          "name": "stdout",
          "output_type": "stream",
          "text": [
            "I own 5 pairs of shoes\n",
            "<class 'int'>\n"
          ]
        }
      ],
      "source": [
        "shoes = 5\n",
        "print(f\"I own {shoes} pairs of shoes\")\n",
        "print(type(shoes))\n"
      ]
    },
    {
      "cell_type": "code",
      "execution_count": 231,
      "metadata": {
        "colab": {
          "base_uri": "https://localhost:8080/"
        },
        "id": "Mto52ZsKMnbD",
        "outputId": "f173b2ed-573f-45a4-e62e-976e9e5dca0b"
      },
      "outputs": [
        {
          "name": "stdout",
          "output_type": "stream",
          "text": [
            "I can complete 1.5 projects per month\n",
            "<class 'float'>\n"
          ]
        }
      ],
      "source": [
        "rate = 3/2\n",
        "print(f\"I can complete {rate} projects per month\")\n",
        "print(type(rate))"
      ]
    },
    {
      "cell_type": "code",
      "execution_count": 232,
      "metadata": {
        "colab": {
          "base_uri": "https://localhost:8080/"
        },
        "id": "5cebmPtIMnXu",
        "outputId": "431254f6-33b1-40df-b4c1-bb566b16a404"
      },
      "outputs": [
        {
          "name": "stdout",
          "output_type": "stream",
          "text": [
            "6 * 2.5 = 15.0\n",
            "<class 'float'>\n"
          ]
        }
      ],
      "source": [
        "a = 6\n",
        "b = 2.5\n",
        "print(f\"{a} * {b} = {a * b}\")\n",
        "print(type(a * b))"
      ]
    },
    {
      "attachments": {},
      "cell_type": "markdown",
      "metadata": {
        "id": "XKBNkcc4MnT0"
      },
      "source": [
        "### Conversions"
      ]
    },
    {
      "cell_type": "code",
      "execution_count": 233,
      "metadata": {
        "colab": {
          "base_uri": "https://localhost:8080/"
        },
        "id": "bF9DkvCgMnQp",
        "outputId": "ad83f5d7-0a29-4699-d121-400dda45c157"
      },
      "outputs": [
        {
          "name": "stdout",
          "output_type": "stream",
          "text": [
            "3\n",
            "<class 'int'>\n"
          ]
        }
      ],
      "source": [
        "value = 3.8\n",
        "convert = int(value)\n",
        "print(convert)\n",
        "print(type(convert))"
      ]
    },
    {
      "cell_type": "code",
      "execution_count": 234,
      "metadata": {
        "colab": {
          "base_uri": "https://localhost:8080/"
        },
        "id": "gTTcMBTkMnNS",
        "outputId": "1d5bab89-69ff-4dda-a6f4-50400294f227"
      },
      "outputs": [
        {
          "name": "stdout",
          "output_type": "stream",
          "text": [
            "25\n",
            "<class 'int'>\n"
          ]
        }
      ],
      "source": [
        "number = int(\"25\")\n",
        "print(number)\n",
        "print(type(number))"
      ]
    },
    {
      "cell_type": "code",
      "execution_count": 235,
      "metadata": {
        "colab": {
          "base_uri": "https://localhost:8080/"
        },
        "id": "iiY3W5OeMnJg",
        "outputId": "e0ac7b78-08f0-4988-8f6f-9bf07f9b8453"
      },
      "outputs": [
        {
          "name": "stdout",
          "output_type": "stream",
          "text": [
            "6\n"
          ]
        }
      ],
      "source": [
        "num2 = 'twenty'\n",
        "print(len(num2))"
      ]
    },
    {
      "cell_type": "code",
      "execution_count": 236,
      "metadata": {
        "colab": {
          "base_uri": "https://localhost:8080/"
        },
        "id": "gdpGH7WeMnGW",
        "outputId": "aeb3680d-952d-4080-9347-b654a226c892"
      },
      "outputs": [
        {
          "name": "stdout",
          "output_type": "stream",
          "text": [
            "78.0\n",
            "<class 'float'>\n",
            "56.48\n",
            "<class 'float'>\n"
          ]
        }
      ],
      "source": [
        "value = 78\n",
        "convert = float(value)\n",
        "print(convert)\n",
        "print(type(convert))\n",
        "convert = float(\"56.48\")\n",
        "print(convert)\n",
        "print(type(convert))\n",
        "# Write a summary/explanation of what the cell is doing"
      ]
    },
    {
      "cell_type": "code",
      "execution_count": 237,
      "metadata": {
        "colab": {
          "base_uri": "https://localhost:8080/"
        },
        "id": "QeMnFrdMYgeS",
        "outputId": "dfee266a-af34-4a3b-e45c-9c5ef4fad2a7"
      },
      "outputs": [
        {
          "name": "stdout",
          "output_type": "stream",
          "text": [
            "(38+0j)\n",
            "<class 'complex'>\n"
          ]
        }
      ],
      "source": [
        "value = 38\n",
        "convert = complex(value)\n",
        "print(convert)\n",
        "print(type(convert))\n",
        "\n",
        "# A compl"
      ]
    },
    {
      "cell_type": "code",
      "execution_count": 238,
      "metadata": {
        "colab": {
          "base_uri": "https://localhost:8080/"
        },
        "id": "t-OfoD3PYquL",
        "outputId": "321811eb-5b46-4848-80d1-d8491dcb57fb"
      },
      "outputs": [
        {
          "name": "stdout",
          "output_type": "stream",
          "text": [
            "28.4875\n",
            "<class 'str'>\n"
          ]
        }
      ],
      "source": [
        "value = 28.4875\n",
        "convert = str(value)\n",
        "print(convert)\n",
        "print(type(convert))"
      ]
    },
    {
      "cell_type": "code",
      "execution_count": 239,
      "metadata": {
        "id": "x5diDWjVYySr"
      },
      "outputs": [],
      "source": [
        "# value = '5j'\n",
        "# convert = int(value)\n",
        "# print(convert)\n"
      ]
    },
    {
      "cell_type": "code",
      "execution_count": 240,
      "metadata": {
        "colab": {
          "base_uri": "https://localhost:8080/"
        },
        "id": "w2QNGo5-YyPt",
        "outputId": "0c19cb31-9959-4b53-9b8b-5c5a62424072"
      },
      "outputs": [
        {
          "name": "stdout",
          "output_type": "stream",
          "text": [
            "9\n",
            "9.0\n",
            "(9+0j)\n",
            "9\n"
          ]
        }
      ],
      "source": [
        "data = input(\"Please enter a value: \")\n",
        "print(int(data))\n",
        "print(float(data))\n",
        "print(complex(data))\n",
        "print(str(data))"
      ]
    },
    {
      "cell_type": "code",
      "execution_count": 241,
      "metadata": {
        "colab": {
          "base_uri": "https://localhost:8080/"
        },
        "id": "OKKXO5PnYyN6",
        "outputId": "f94c6a2c-232d-42fc-b655-d07661137f0c"
      },
      "outputs": [
        {
          "name": "stdout",
          "output_type": "stream",
          "text": [
            "<class 'float'>\n",
            "3\n",
            "(3.14159+0j)\n",
            "3.14159\n"
          ]
        }
      ],
      "source": [
        "pi = 3.14159\n",
        "print(type(pi))\n",
        "print(int(pi))\n",
        "print(complex(pi))\n",
        "print(str(pi))"
      ]
    },
    {
      "attachments": {},
      "cell_type": "markdown",
      "metadata": {
        "id": "fWoGm1UyYyJ9"
      },
      "source": [
        "### Operations"
      ]
    },
    {
      "attachments": {},
      "cell_type": "markdown",
      "metadata": {
        "id": "AMOtuuUAaCeT"
      },
      "source": [
        "#### The `Modulus` Operator"
      ]
    },
    {
      "cell_type": "code",
      "execution_count": 242,
      "metadata": {
        "colab": {
          "base_uri": "https://localhost:8080/"
        },
        "id": "RsrBedIZaDS7",
        "outputId": "3dcaf975-0b72-4ef8-d905-5eff67108a2e"
      },
      "outputs": [
        {
          "name": "stdout",
          "output_type": "stream",
          "text": [
            "64.75\n"
          ]
        }
      ],
      "source": [
        "print(259 / 4)"
      ]
    },
    {
      "cell_type": "code",
      "execution_count": 243,
      "metadata": {
        "colab": {
          "base_uri": "https://localhost:8080/"
        },
        "id": "wsignXRYaDQF",
        "outputId": "caffdcf2-70c1-4628-9543-49226e6bdf71"
      },
      "outputs": [
        {
          "name": "stdout",
          "output_type": "stream",
          "text": [
            "3\n"
          ]
        }
      ],
      "source": [
        "print(259 % 4)"
      ]
    },
    {
      "attachments": {},
      "cell_type": "markdown",
      "metadata": {
        "id": "BWECaQNCaDNm"
      },
      "source": [
        "#### The `power` Operator"
      ]
    },
    {
      "cell_type": "code",
      "execution_count": 244,
      "metadata": {
        "colab": {
          "base_uri": "https://localhost:8080/"
        },
        "id": "HH6FaNm_aDKf",
        "outputId": "41d52526-d89d-477e-b5f7-03492ae4a77c"
      },
      "outputs": [
        {
          "name": "stdout",
          "output_type": "stream",
          "text": [
            "6561\n"
          ]
        }
      ],
      "source": [
        "print(9 ** 4)"
      ]
    },
    {
      "cell_type": "code",
      "execution_count": 245,
      "metadata": {
        "colab": {
          "base_uri": "https://localhost:8080/"
        },
        "id": "_cwUwVVKaDHJ",
        "outputId": "f44cc866-5b13-44cd-d392-98efd23e4e22"
      },
      "outputs": [
        {
          "data": {
            "text/plain": [
              "4"
            ]
          },
          "execution_count": 245,
          "metadata": {},
          "output_type": "execute_result"
        }
      ],
      "source": [
        "2 ** 2"
      ]
    },
    {
      "attachments": {},
      "cell_type": "markdown",
      "metadata": {
        "id": "pLVBprZWaDDu"
      },
      "source": [
        "#### The `floor` Operator"
      ]
    },
    {
      "cell_type": "code",
      "execution_count": 246,
      "metadata": {
        "colab": {
          "base_uri": "https://localhost:8080/"
        },
        "id": "6n2aMlAVaDAm",
        "outputId": "a8bc5d60-4444-485b-a686-5b43bee0535c"
      },
      "outputs": [
        {
          "name": "stdout",
          "output_type": "stream",
          "text": [
            "2\n"
          ]
        }
      ],
      "source": [
        "print(9 // 4)"
      ]
    },
    {
      "attachments": {},
      "cell_type": "markdown",
      "metadata": {
        "id": "QcIGIG3va0kC"
      },
      "source": [
        "#### Assignament Operators"
      ]
    },
    {
      "cell_type": "code",
      "execution_count": 247,
      "metadata": {
        "id": "9vq0ran-bWk0"
      },
      "outputs": [],
      "source": [
        "x = 9"
      ]
    },
    {
      "cell_type": "code",
      "execution_count": 248,
      "metadata": {
        "colab": {
          "base_uri": "https://localhost:8080/"
        },
        "id": "Dawve0eybWhu",
        "outputId": "551bb4c9-7db5-4e25-b45f-e963713de972"
      },
      "outputs": [
        {
          "name": "stdout",
          "output_type": "stream",
          "text": [
            "13\n"
          ]
        }
      ],
      "source": [
        "x += 4\n",
        "print(x)"
      ]
    },
    {
      "cell_type": "code",
      "execution_count": 249,
      "metadata": {
        "colab": {
          "base_uri": "https://localhost:8080/"
        },
        "id": "GERKHDplbWfD",
        "outputId": "3aaf7ca3-0f3a-4390-cc38-e952806a0d1b"
      },
      "outputs": [
        {
          "name": "stdout",
          "output_type": "stream",
          "text": [
            "9\n"
          ]
        }
      ],
      "source": [
        "# x = x + 4\n",
        "x -= 4\n",
        "print(x)\n"
      ]
    },
    {
      "cell_type": "code",
      "execution_count": 250,
      "metadata": {
        "colab": {
          "base_uri": "https://localhost:8080/"
        },
        "id": "M1MZ_wpFbWcK",
        "outputId": "29103ec7-39a6-44ad-eaa0-7ba28bb509fd"
      },
      "outputs": [
        {
          "name": "stdout",
          "output_type": "stream",
          "text": [
            "36\n"
          ]
        }
      ],
      "source": [
        "x *= 4\n",
        "print(x)\n"
      ]
    },
    {
      "cell_type": "code",
      "execution_count": 251,
      "metadata": {
        "colab": {
          "base_uri": "https://localhost:8080/"
        },
        "id": "O6VZy_wnbWYq",
        "outputId": "a9a940c9-954d-462e-f26f-427069cde090"
      },
      "outputs": [
        {
          "name": "stdout",
          "output_type": "stream",
          "text": [
            "9.0\n"
          ]
        }
      ],
      "source": [
        "x /= 4\n",
        "print(x)\n"
      ]
    },
    {
      "cell_type": "code",
      "execution_count": 252,
      "metadata": {
        "colab": {
          "base_uri": "https://localhost:8080/"
        },
        "id": "0oJCILftbWU7",
        "outputId": "92ab5a48-80cb-4a30-8a94-a39b58b28e9b"
      },
      "outputs": [
        {
          "name": "stdout",
          "output_type": "stream",
          "text": [
            "1.0\n",
            "1.0\n",
            "0.0\n"
          ]
        }
      ],
      "source": [
        "x %= 4\n",
        "print(x)\n",
        "x **= 4\n",
        "print(x)\n",
        "x //= 4\n",
        "\n",
        "print(x)"
      ]
    },
    {
      "cell_type": "code",
      "execution_count": null,
      "metadata": {
        "id": "iquafe0abWRJ"
      },
      "outputs": [],
      "source": []
    },
    {
      "cell_type": "code",
      "execution_count": null,
      "metadata": {
        "id": "-T8lmB-EbWOI"
      },
      "outputs": [],
      "source": []
    }
  ],
  "metadata": {
    "colab": {
      "collapsed_sections": [
        "YnUVO8NfIjSA",
        "1pf_VltTIi7e",
        "cmrZmnEsNTZP",
        "Nyh6BHo2Nkjv",
        "5qbEWpmmRDIM",
        "9oPYuCGrSgIK",
        "-vvOEZ2IThdJ",
        "jYq5B0CrI8Z_"
      ],
      "include_colab_link": true,
      "provenance": []
    },
    "kernelspec": {
      "display_name": "Python 3",
      "name": "python3"
    },
    "language_info": {
      "codemirror_mode": {
        "name": "ipython",
        "version": 3
      },
      "file_extension": ".py",
      "mimetype": "text/x-python",
      "name": "python",
      "nbconvert_exporter": "python",
      "pygments_lexer": "ipython3",
      "version": "3.11.0"
    }
  },
  "nbformat": 4,
  "nbformat_minor": 0
}
